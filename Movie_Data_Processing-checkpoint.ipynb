{
 "cells": [
  {
   "cell_type": "code",
   "execution_count": 4,
   "id": "943362b0-f9dd-48b6-823c-1360dedbcf13",
   "metadata": {},
   "outputs": [
    {
     "ename": "FileNotFoundError",
     "evalue": "[WinError 2] The system cannot find the file specified: 'c:/Movie_Recommender_App'",
     "output_type": "error",
     "traceback": [
      "\u001b[1;31m---------------------------------------------------------------------------\u001b[0m",
      "\u001b[1;31mFileNotFoundError\u001b[0m                         Traceback (most recent call last)",
      "\u001b[1;32m~\\AppData\\Local\\Temp\\ipykernel_10180\\3672105255.py\u001b[0m in \u001b[0;36m<module>\u001b[1;34m\u001b[0m\n\u001b[0;32m      1\u001b[0m \u001b[1;32mimport\u001b[0m \u001b[0mos\u001b[0m\u001b[1;33m\u001b[0m\u001b[1;33m\u001b[0m\u001b[0m\n\u001b[1;32m----> 2\u001b[1;33m \u001b[0mos\u001b[0m\u001b[1;33m.\u001b[0m\u001b[0mchdir\u001b[0m\u001b[1;33m(\u001b[0m\u001b[1;34m'c:/Movie_Recommender_App'\u001b[0m\u001b[1;33m)\u001b[0m\u001b[1;33m\u001b[0m\u001b[1;33m\u001b[0m\u001b[0m\n\u001b[0m",
      "\u001b[1;31mFileNotFoundError\u001b[0m: [WinError 2] The system cannot find the file specified: 'c:/Movie_Recommender_App'"
     ]
    }
   ],
   "source": [
    "import os\n",
    "os.chdir('c:/Movie_Recommender_App')"
   ]
  },
  {
   "cell_type": "code",
   "execution_count": 3,
   "id": "8fb1f66a-d522-42ea-948f-8f367a846602",
   "metadata": {},
   "outputs": [
    {
     "ename": "SyntaxError",
     "evalue": "(unicode error) 'unicodeescape' codec can't decode bytes in position 2-3: truncated \\UXXXXXXXX escape (1395820779.py, line 3)",
     "output_type": "error",
     "traceback": [
      "\u001b[1;36m  File \u001b[1;32m\"C:\\Users\\LENOVO\\AppData\\Local\\Temp\\ipykernel_10180\\1395820779.py\"\u001b[1;36m, line \u001b[1;32m3\u001b[0m\n\u001b[1;33m    data = pd.read_csv('C:\\Users\\LENOVO\\Desktop\\MovieRS\\Movie_Recommender_App\\Data')\u001b[0m\n\u001b[1;37m                                                                                   ^\u001b[0m\n\u001b[1;31mSyntaxError\u001b[0m\u001b[1;31m:\u001b[0m (unicode error) 'unicodeescape' codec can't decode bytes in position 2-3: truncated \\UXXXXXXXX escape\n"
     ]
    }
   ],
   "source": [
    "import pandas as pd\n",
    "# Load dataset to a data frame\n",
    "data = pd.read_csv('./Data/movie_metadata.csv')\n",
    "data.head()"
   ]
  },
  {
   "cell_type": "code",
   "execution_count": 3,
   "id": "4bb0e1cc-41ba-42a7-b244-1a960393154d",
   "metadata": {},
   "outputs": [
    {
     "name": "stdout",
     "output_type": "stream",
     "text": [
      "(5043, 28)\n"
     ]
    }
   ],
   "source": [
    "print(data.shape)"
   ]
  },
  {
   "cell_type": "code",
   "execution_count": 4,
   "id": "7e4e6209-ff45-454d-930d-11e87da969ee",
   "metadata": {},
   "outputs": [
    {
     "data": {
      "text/html": [
       "<div>\n",
       "<style scoped>\n",
       "    .dataframe tbody tr th:only-of-type {\n",
       "        vertical-align: middle;\n",
       "    }\n",
       "\n",
       "    .dataframe tbody tr th {\n",
       "        vertical-align: top;\n",
       "    }\n",
       "\n",
       "    .dataframe thead th {\n",
       "        text-align: right;\n",
       "    }\n",
       "</style>\n",
       "<table border=\"1\" class=\"dataframe\">\n",
       "  <thead>\n",
       "    <tr style=\"text-align: right;\">\n",
       "      <th></th>\n",
       "      <th>genres</th>\n",
       "      <th>movie_title</th>\n",
       "      <th>imdb_score</th>\n",
       "      <th>movie_imdb_link</th>\n",
       "    </tr>\n",
       "  </thead>\n",
       "  <tbody>\n",
       "    <tr>\n",
       "      <th>0</th>\n",
       "      <td>Action|Adventure|Fantasy|Sci-Fi</td>\n",
       "      <td>Avatar</td>\n",
       "      <td>7.9</td>\n",
       "      <td>http://www.imdb.com/title/tt0499549/?ref_=fn_t...</td>\n",
       "    </tr>\n",
       "    <tr>\n",
       "      <th>1</th>\n",
       "      <td>Action|Adventure|Fantasy</td>\n",
       "      <td>Pirates of the Caribbean: At World's End</td>\n",
       "      <td>7.1</td>\n",
       "      <td>http://www.imdb.com/title/tt0449088/?ref_=fn_t...</td>\n",
       "    </tr>\n",
       "    <tr>\n",
       "      <th>2</th>\n",
       "      <td>Action|Adventure|Thriller</td>\n",
       "      <td>Spectre</td>\n",
       "      <td>6.8</td>\n",
       "      <td>http://www.imdb.com/title/tt2379713/?ref_=fn_t...</td>\n",
       "    </tr>\n",
       "    <tr>\n",
       "      <th>3</th>\n",
       "      <td>Action|Thriller</td>\n",
       "      <td>The Dark Knight Rises</td>\n",
       "      <td>8.5</td>\n",
       "      <td>http://www.imdb.com/title/tt1345836/?ref_=fn_t...</td>\n",
       "    </tr>\n",
       "    <tr>\n",
       "      <th>4</th>\n",
       "      <td>Documentary</td>\n",
       "      <td>Star Wars: Episode VII - The Force Awakens    ...</td>\n",
       "      <td>7.1</td>\n",
       "      <td>http://www.imdb.com/title/tt5289954/?ref_=fn_t...</td>\n",
       "    </tr>\n",
       "  </tbody>\n",
       "</table>\n",
       "</div>"
      ],
      "text/plain": [
       "                            genres  \\\n",
       "0  Action|Adventure|Fantasy|Sci-Fi   \n",
       "1         Action|Adventure|Fantasy   \n",
       "2        Action|Adventure|Thriller   \n",
       "3                  Action|Thriller   \n",
       "4                      Documentary   \n",
       "\n",
       "                                         movie_title  imdb_score  \\\n",
       "0                                            Avatar          7.9   \n",
       "1          Pirates of the Caribbean: At World's End          7.1   \n",
       "2                                           Spectre          6.8   \n",
       "3                             The Dark Knight Rises          8.5   \n",
       "4  Star Wars: Episode VII - The Force Awakens    ...         7.1   \n",
       "\n",
       "                                     movie_imdb_link  \n",
       "0  http://www.imdb.com/title/tt0499549/?ref_=fn_t...  \n",
       "1  http://www.imdb.com/title/tt0449088/?ref_=fn_t...  \n",
       "2  http://www.imdb.com/title/tt2379713/?ref_=fn_t...  \n",
       "3  http://www.imdb.com/title/tt1345836/?ref_=fn_t...  \n",
       "4  http://www.imdb.com/title/tt5289954/?ref_=fn_t...  "
      ]
     },
     "execution_count": 4,
     "metadata": {},
     "output_type": "execute_result"
    }
   ],
   "source": [
    "# Create a new data frame with relevant columns only\n",
    "df = data[['genres', 'movie_title', 'imdb_score', 'movie_imdb_link']].copy()\n",
    "df.head()"
   ]
  },
  {
   "cell_type": "code",
   "execution_count": 5,
   "id": "6d60c9b1-b001-4887-891e-203db358989c",
   "metadata": {},
   "outputs": [
    {
     "data": {
      "text/plain": [
       "['Action',\n",
       " 'Adventure',\n",
       " 'Animation',\n",
       " 'Biography',\n",
       " 'Comedy',\n",
       " 'Crime',\n",
       " 'Documentary',\n",
       " 'Drama',\n",
       " 'Family',\n",
       " 'Fantasy',\n",
       " 'Film-Noir',\n",
       " 'Game-Show',\n",
       " 'History',\n",
       " 'Horror',\n",
       " 'Music',\n",
       " 'Musical',\n",
       " 'Mystery',\n",
       " 'News',\n",
       " 'Reality-TV',\n",
       " 'Romance',\n",
       " 'Sci-Fi',\n",
       " 'Short',\n",
       " 'Sport',\n",
       " 'Thriller',\n",
       " 'War',\n",
       " 'Western']"
      ]
     },
     "execution_count": 5,
     "metadata": {},
     "output_type": "execute_result"
    }
   ],
   "source": [
    "# Fetch genres of all movies\n",
    "genres_all_movies = [df.loc[i]['genres'].split('|') for i in df.index]\n",
    "# Find the list of genres of all movies in alphabetical order\n",
    "genres = sorted(list(set([item for sublist in genres_all_movies for item in sublist])))\n",
    "genres"
   ]
  },
  {
   "cell_type": "code",
   "execution_count": 12,
   "id": "ca529730-9490-48ce-bd8c-c2c99e656e0c",
   "metadata": {},
   "outputs": [
    {
     "data": {
      "text/plain": [
       "26"
      ]
     },
     "execution_count": 12,
     "metadata": {},
     "output_type": "execute_result"
    }
   ],
   "source": [
    "len(genres)"
   ]
  },
  {
   "cell_type": "code",
   "execution_count": 6,
   "id": "81ff0370-0c96-48d9-b68c-48f566f0e11d",
   "metadata": {},
   "outputs": [],
   "source": [
    "# Initialize lists for movie data as well as titles\n",
    "full_data = []\n",
    "movie_titles = []"
   ]
  },
  {
   "cell_type": "code",
   "execution_count": 7,
   "id": "f82347dc-ccb6-42c5-ba8b-9b3184077700",
   "metadata": {},
   "outputs": [
    {
     "name": "stdout",
     "output_type": "stream",
     "text": [
      "                               genres  \\\n",
      "0     Action|Adventure|Fantasy|Sci-Fi   \n",
      "1            Action|Adventure|Fantasy   \n",
      "2           Action|Adventure|Thriller   \n",
      "3                     Action|Thriller   \n",
      "4                         Documentary   \n",
      "...                               ...   \n",
      "5038                     Comedy|Drama   \n",
      "5039     Crime|Drama|Mystery|Thriller   \n",
      "5040            Drama|Horror|Thriller   \n",
      "5041             Comedy|Drama|Romance   \n",
      "5042                      Documentary   \n",
      "\n",
      "                                            movie_title  imdb_score  \\\n",
      "0                                               Avatar          7.9   \n",
      "1             Pirates of the Caribbean: At World's End          7.1   \n",
      "2                                              Spectre          6.8   \n",
      "3                                The Dark Knight Rises          8.5   \n",
      "4     Star Wars: Episode VII - The Force Awakens    ...         7.1   \n",
      "...                                                 ...         ...   \n",
      "5038                           Signed Sealed Delivered          7.7   \n",
      "5039                         The Following                      7.5   \n",
      "5040                              A Plague So Pleasant          6.3   \n",
      "5041                                  Shanghai Calling          6.3   \n",
      "5042                                 My Date with Drew          6.6   \n",
      "\n",
      "                                        movie_imdb_link  \n",
      "0     http://www.imdb.com/title/tt0499549/?ref_=fn_t...  \n",
      "1     http://www.imdb.com/title/tt0449088/?ref_=fn_t...  \n",
      "2     http://www.imdb.com/title/tt2379713/?ref_=fn_t...  \n",
      "3     http://www.imdb.com/title/tt1345836/?ref_=fn_t...  \n",
      "4     http://www.imdb.com/title/tt5289954/?ref_=fn_t...  \n",
      "...                                                 ...  \n",
      "5038  http://www.imdb.com/title/tt3000844/?ref_=fn_t...  \n",
      "5039  http://www.imdb.com/title/tt2071645/?ref_=fn_t...  \n",
      "5040  http://www.imdb.com/title/tt2107644/?ref_=fn_t...  \n",
      "5041  http://www.imdb.com/title/tt2070597/?ref_=fn_t...  \n",
      "5042  http://www.imdb.com/title/tt0378407/?ref_=fn_t...  \n",
      "\n",
      "[5043 rows x 4 columns]\n"
     ]
    }
   ],
   "source": [
    "print(df)"
   ]
  },
  {
   "cell_type": "code",
   "execution_count": 9,
   "id": "2e408b79-d475-42f3-8b01-52b1dcab1b60",
   "metadata": {},
   "outputs": [],
   "source": [
    "df.to_csv('test.csv')"
   ]
  },
  {
   "cell_type": "code",
   "execution_count": 8,
   "id": "f6f36a3e-dcb0-4be7-bbfd-abc6887d78f2",
   "metadata": {},
   "outputs": [],
   "source": [
    "for i in df.index:\n",
    "    # Append movie title and the index of the movie\n",
    "    movie_titles.append((df.loc[i]['movie_title'].strip(), i, df.loc[i]['movie_imdb_link'].strip()))\n",
    "    # Add list of genres of the movies (1/0) to movie data\n",
    "    movie_data = [1 if genre in df.loc[i]['genres'].split('|') else 0 for genre in genres]\n",
    "    # Add IMDb score of the movie to the movie data\n",
    "    movie_data.append(df.loc[i]['imdb_score'])\n",
    "    # Add record of movie to main data list\n",
    "    full_data.append(movie_data)"
   ]
  },
  {
   "cell_type": "code",
   "execution_count": 16,
   "id": "1ddde2f4-270c-4d03-b414-9b568077443c",
   "metadata": {},
   "outputs": [
    {
     "name": "stdout",
     "output_type": "stream",
     "text": [
      "(\"Pirates of the Caribbean: At World's End\", 1, 'http://www.imdb.com/title/tt0449088/?ref_=fn_tt_tt_1')\n"
     ]
    }
   ],
   "source": [
    "print(movie_titles[1])"
   ]
  },
  {
   "cell_type": "code",
   "execution_count": 15,
   "id": "c6bc3afa-b4cc-4db3-ab96-75d7ff80b7c5",
   "metadata": {},
   "outputs": [
    {
     "name": "stdout",
     "output_type": "stream",
     "text": [
      "[1, 1, 0, 0, 0, 0, 0, 0, 0, 1, 0, 0, 0, 0, 0, 0, 0, 0, 0, 0, 1, 0, 0, 0, 0, 0, 7.9]\n"
     ]
    }
   ],
   "source": [
    "print(full_data[0])"
   ]
  },
  {
   "cell_type": "code",
   "execution_count": null,
   "id": "6b3601a6-713d-4fcd-b87b-43ecec5f9c65",
   "metadata": {},
   "outputs": [],
   "source": [
    "print(movie_titles)\n",
    "data_dump = './Data/movie_data.json'\n",
    "titles_dump = './Data/movie_titles.json'\n",
    "with open(data_dump, 'w+', encoding='utf-8') as f:\n",
    "    json.dump(full_data, f)\n",
    "with open(titles_dump, 'w+', encoding='utf-8') as f:\n",
    "    json.dump(movie_titles, f)"
   ]
  }
 ],
 "metadata": {
  "kernelspec": {
   "display_name": "Python 3 (ipykernel)",
   "language": "python",
   "name": "python3"
  },
  "language_info": {
   "codemirror_mode": {
    "name": "ipython",
    "version": 3
   },
   "file_extension": ".py",
   "mimetype": "text/x-python",
   "name": "python",
   "nbconvert_exporter": "python",
   "pygments_lexer": "ipython3",
   "version": "3.9.13"
  }
 },
 "nbformat": 4,
 "nbformat_minor": 5
}
